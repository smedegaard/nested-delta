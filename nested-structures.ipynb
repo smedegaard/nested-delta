{
 "cells": [
  {
   "cell_type": "code",
   "execution_count": 1,
   "id": "f1243d5b-809e-4ee0-82e3-5db76b4087c2",
   "metadata": {},
   "outputs": [],
   "source": [
    "import pyspark\n",
    "import delta\n",
    "from delta.tables import DeltaTable"
   ]
  },
  {
   "cell_type": "code",
   "execution_count": 2,
   "id": "738e22a9-13ae-4353-9294-652d22f0a26f",
   "metadata": {},
   "outputs": [],
   "source": [
    "builder = (\n",
    "    pyspark.sql.SparkSession.builder.appName(\"nested-delta\")\n",
    "    .config(\"spark.sql.extensions\", \"io.delta.sql.DeltaSparkSessionExtension\")\n",
    "    .config(\n",
    "        \"spark.sql.catalog.spark_catalog\",\n",
    "        \"org.apache.spark.sql.delta.catalog.DeltaCatalog\",\n",
    "    )\n",
    "    .config(\"spark.databricks.delta.constraints.allowUnenforcedNotNull.enabled\", True)\n",
    ")"
   ]
  },
  {
   "cell_type": "code",
   "execution_count": 3,
   "id": "1762b1e6",
   "metadata": {},
   "outputs": [
    {
     "name": "stderr",
     "output_type": "stream",
     "text": [
      "24/05/20 09:40:09 WARN Utils: Your hostname, Min-MacBook-Pro.local resolves to a loopback address: 127.0.0.1; using 192.168.10.141 instead (on interface en0)\n",
      "24/05/20 09:40:09 WARN Utils: Set SPARK_LOCAL_IP if you need to bind to another address\n"
     ]
    },
    {
     "name": "stdout",
     "output_type": "stream",
     "text": [
      ":: loading settings :: url = jar:file:/Users/anders/Library/Caches/pypoetry/virtualenvs/nested-delta-01GGJnWy-py3.12/lib/python3.12/site-packages/pyspark/jars/ivy-2.5.1.jar!/org/apache/ivy/core/settings/ivysettings.xml\n"
     ]
    },
    {
     "name": "stderr",
     "output_type": "stream",
     "text": [
      "Ivy Default Cache set to: /Users/anders/.ivy2/cache\n",
      "The jars for the packages stored in: /Users/anders/.ivy2/jars\n",
      "io.delta#delta-spark_2.12 added as a dependency\n",
      ":: resolving dependencies :: org.apache.spark#spark-submit-parent-8a4aab3b-9e88-4342-8c99-34260561cf98;1.0\n",
      "\tconfs: [default]\n",
      "\tfound io.delta#delta-spark_2.12;3.1.0 in central\n",
      "\tfound io.delta#delta-storage;3.1.0 in central\n",
      "\tfound org.antlr#antlr4-runtime;4.9.3 in central\n",
      ":: resolution report :: resolve 196ms :: artifacts dl 9ms\n",
      "\t:: modules in use:\n",
      "\tio.delta#delta-spark_2.12;3.1.0 from central in [default]\n",
      "\tio.delta#delta-storage;3.1.0 from central in [default]\n",
      "\torg.antlr#antlr4-runtime;4.9.3 from central in [default]\n",
      "\t---------------------------------------------------------------------\n",
      "\t|                  |            modules            ||   artifacts   |\n",
      "\t|       conf       | number| search|dwnlded|evicted|| number|dwnlded|\n",
      "\t---------------------------------------------------------------------\n",
      "\t|      default     |   3   |   0   |   0   |   0   ||   3   |   0   |\n",
      "\t---------------------------------------------------------------------\n",
      ":: retrieving :: org.apache.spark#spark-submit-parent-8a4aab3b-9e88-4342-8c99-34260561cf98\n",
      "\tconfs: [default]\n",
      "\t0 artifacts copied, 3 already retrieved (0kB/5ms)\n",
      "24/05/20 09:40:10 WARN NativeCodeLoader: Unable to load native-hadoop library for your platform... using builtin-java classes where applicable\n",
      "Setting default log level to \"WARN\".\n",
      "To adjust logging level use sc.setLogLevel(newLevel). For SparkR, use setLogLevel(newLevel).\n"
     ]
    }
   ],
   "source": [
    "spark = delta.configure_spark_with_delta_pip(builder).getOrCreate()"
   ]
  },
  {
   "cell_type": "markdown",
   "id": "54f2ad92",
   "metadata": {},
   "source": [
    "# Data Structure"
   ]
  },
  {
   "cell_type": "code",
   "execution_count": 4,
   "id": "912f4a5a",
   "metadata": {},
   "outputs": [],
   "source": [
    "import pyspark.sql.functions as F\n",
    "from pyspark.sql import types as t\n",
    "import uuid\n",
    "from delta.tables import *\n",
    "from enum import Enum\n",
    "from dataclasses import dataclass, field"
   ]
  },
  {
   "cell_type": "code",
   "execution_count": 5,
   "id": "c57f26a5",
   "metadata": {},
   "outputs": [],
   "source": [
    "\n",
    "@dataclass\n",
    "class SIUnitDataMixin:\n",
    "    sign: str\n",
    "    unit: int\n",
    "    dimension: str\n",
    "\n",
    "class SIUnit(SIUnitDataMixin, Enum):\n",
    "    AMPERE = (\"A\", \"ampere\", \"electric current\")\n",
    "    AMPERE_HOUR = (\"Ah\", \"ampere-hour\", \"electric capacity\")\n",
    "    CELCIUS = (\"c\", \"celcius\", \"temperature\")\n",
    "    VOLT = (\"V\", \"volt\", \"electric potential\")\n",
    "    MILLISECOND = (\"ms\", \"millisecond\", \"time\")\n",
    "\n",
    "    def to_dict(self):\n",
    "        return {\n",
    "            \"sign\": self.sign,\n",
    "            \"name\": self.unit,\n",
    "            \"dimension\": self.dimension\n",
    "        }"
   ]
  },
  {
   "cell_type": "code",
   "execution_count": 6,
   "id": "6d61123d",
   "metadata": {},
   "outputs": [
    {
     "data": {
      "text/plain": [
       "{'sign': 'Ah', 'name': 'ampere-hour', 'dimension': 'electric capacity'}"
      ]
     },
     "execution_count": 6,
     "metadata": {},
     "output_type": "execute_result"
    }
   ],
   "source": [
    "SIUnit.AMPERE_HOUR.to_dict()"
   ]
  },
  {
   "cell_type": "code",
   "execution_count": 7,
   "id": "a0dedff5",
   "metadata": {},
   "outputs": [],
   "source": [
    "data_schema = StructType([\n",
    "    StructField(\n",
    "        \"test_id\",\n",
    "        t.StringType(),\n",
    "        nullable=False,\n",
    "        metadata={\"comment\": \"uuid identifier for the test\"}\n",
    "    ),\n",
    "    StructField(\n",
    "        name=\"cycler_info\",\n",
    "        nullable=False,\n",
    "        metadata={\"comment\": \"Details about the cycler used to run the test\"},\n",
    "        dataType=t.StructType([\n",
    "            StructField(\n",
    "                \"channel_number\",\n",
    "                t.IntegerType(),\n",
    "                nullable=False,\n",
    "                metadata={\"comment\": \"Which equipment channel number (or similar identifier) was used to run this test\"}\n",
    "            ),\n",
    "            StructField(\n",
    "                \"cycler_id\",\n",
    "                t.StringType(),\n",
    "                nullable=False,\n",
    "                metadata={\"comment\": \"An optional identifying string unique to the cycler across the organization\"}\n",
    "            ),\n",
    "            StructField(\n",
    "                \"server_version\",\n",
    "                t.StringType(),\n",
    "                nullable=True,\n",
    "                metadata={\"comment\": \"The version of the server software used to run the test\"}\n",
    "            ),\n",
    "            StructField(\n",
    "                \"client_version\",\n",
    "                t.StringType(),\n",
    "                nullable=True,\n",
    "                metadata={\"comment\": \"The version of the client software used to run the test\"}\n",
    "            ),\n",
    "        ]),\n",
    "    ),\n",
    "    StructField(\n",
    "        \"device_info\",\n",
    "        t.StructType([\n",
    "            StructField(\n",
    "                \"device_id\",\n",
    "                t.StringType(),\n",
    "                nullable=False,\n",
    "                metadata={\"comment\": \"Identifying string unique to the device/cell/pack across the organization\"}\n",
    "            ),\n",
    "            StructField(\n",
    "                \"device_name\",\n",
    "                t.StringType(),\n",
    "                nullable=False,\n",
    "                metadata={\"comment\": \"Descriptive name the test device\"}\n",
    "            ),\n",
    "            StructField(\n",
    "                \"nominal_capacity\",\n",
    "                t.FloatType(),\n",
    "                nullable=True,\n",
    "                metadata={\n",
    "                    \"comment\": \"The nominal capacity of the test device in Ampere Hours\",\n",
    "                    \"unit\": SIUnit.AMPERE_HOUR.to_dict()\n",
    "                }\n",
    "            ),\n",
    "            StructField(\n",
    "                \"calibration_date\",\n",
    "                t.DateType(),\n",
    "                nullable=True,\n",
    "                metadata={\"comment\": \"The date the test device was calibrated\"}\n",
    "            ),\n",
    "            StructField(\n",
    "                \"form_factor\",\n",
    "                t.StringType(),\n",
    "                nullable=True,\n",
    "                metadata={\"comment\": \"The form factor of the test device\"}\n",
    "            ),\n",
    "            StructField(\n",
    "                \"cell_formulation_id\",\n",
    "                t.StringType(),\n",
    "                nullable=True,\n",
    "                metadata={\"comment\": \"An id that identifies what chemical formulation was used to make the cell.\"}\n",
    "            ),\n",
    "            StructField(\n",
    "                \"cathode\",\n",
    "                t.StringType(),\n",
    "                nullable=True,\n",
    "                metadata={\"comment\": \"The type of cathode in the device\"}\n",
    "            ),\n",
    "            StructField(\n",
    "                \"anode\",\n",
    "                t.StringType(),\n",
    "                nullable=True,\n",
    "                metadata={\"comment\": \"The type of anode in the device\"}\n",
    "            )\n",
    "        ]),\n",
    "        nullable=False,\n",
    "        metadata={\"comment\": \"Info about the device/cell/pack that was tested\"}\n",
    "    ),\n",
    "    StructField(\n",
    "        \"procedure\",\n",
    "        t.StructType([\n",
    "            StructField(\n",
    "                \"procedure_id\",\n",
    "                t.StringType(),\n",
    "                nullable=False,\n",
    "                metadata={\"comment\": \"uuid identifier for the test procedure\"}\n",
    "            ),\n",
    "            StructField(\n",
    "                \"procedure_name\",\n",
    "                t.StringType(),\n",
    "                nullable=False,\n",
    "                metadata={\"comment\": \"Descriptive name the test procedure\"}\n",
    "            ),\n",
    "        ]),\n",
    "        nullable=False,\n",
    "        metadata={\"comment\": \"Info about the test procedure\"}\n",
    "    ),\n",
    "    StructField(\n",
    "        \"project\",\n",
    "        t.StringType(),\n",
    "        nullable=True,\n",
    "        metadata={\"comment\": \"The name of the project the device belongs to\"}\n",
    "    ),\n",
    "    StructField(\n",
    "        name=\"test_data\",\n",
    "        nullable=False,\n",
    "        metadata={\"comment\": \"The measurements made by the cycler during the test\"},\n",
    "        dataType=StructType([\n",
    "            StructField(\n",
    "              \"start_datetime\",\n",
    "              t.TimestampType(),\n",
    "              nullable=False,\n",
    "              metadata={\"comment\": \"The absolute datetime the test started. ISO 8601 format. Must include timezone. If timezone is not specified, UTC is assumed\"}  \n",
    "            ),\n",
    "            StructField(\n",
    "            \"measurements\",\n",
    "                t.ArrayType(\n",
    "                    StructType([\n",
    "                        StructField(\n",
    "                            \"current\",\n",
    "                            t.FloatType(),\n",
    "                            nullable=False,\n",
    "                            metadata={\n",
    "                                \"comment\": \"The current in Ampere. The sign convention is positive for charge current and negative for discharge current.\",\n",
    "                                \"unit\": SIUnit.AMPERE.to_dict()\n",
    "                            }\n",
    "                        ),\n",
    "                        StructField(\n",
    "                            \"voltage\",\n",
    "                            t.FloatType(),\n",
    "                            nullable=False,\n",
    "                            metadata={\n",
    "                                \"comment\": \"The voltage in Volts\",\n",
    "                                \"unit\": SIUnit.VOLT.to_dict()\n",
    "                            }\n",
    "                        ),\n",
    "                        StructField(\n",
    "                            \"elapsed_time\",\n",
    "                            t.IntegerType(),\n",
    "                            nullable=False,\n",
    "                            metadata={\"comment\": \"Elapsed time in milliseconds since `start_datetime`\"}\n",
    "                        ),\n",
    "                        StructField(\n",
    "                            \"measurement_datetime\",\n",
    "                            t.TimestampType(),\n",
    "                            nullable=False,\n",
    "                            metadata={\"comment\": \"\"\"The absolute datetime of the measurement for the individual data point. \n",
    "                                    ISO 8601 format. Must include timezone. If timezone is not specified, UTC is assumed\"\"\"}\n",
    "                        ),\n",
    "                        StructField(\n",
    "                            \"datapoint_number\",\n",
    "                            t.IntegerType(),\n",
    "                            nullable=True,\n",
    "                            metadata={\"comment\": \"The index number of the data point within the test. Starting at 1.\"}\n",
    "                        ),\n",
    "                        StructField(\n",
    "                            \"cycle_number\",\n",
    "                            t.LongType(),\n",
    "                            nullable=True,\n",
    "                            metadata={\"comment\": \"\"\"The index number of the cycle within the test. Starting at 1.\n",
    "                                    Cycles are monotonically increasing and gapless (doesn’t skip any numbers).\n",
    "                                    Special Note: if a cycle column is not observed, the default algorith mwill look for \n",
    "                                    the first charge datapoint after any discharge datapoint as the boundary for a new cycle\"\"\"}\n",
    "                        ),\n",
    "                        StructField(\n",
    "                            \"step_index\",\n",
    "                            t.LongType(),\n",
    "                            metadata={\"comment\": \"Program step number associated with each control step.\"}\n",
    "                        ),\n",
    "                        StructField(\n",
    "                            \"step_time\",\n",
    "                            t.FloatType(),\n",
    "                            metadata={\n",
    "                                \"comment\": \"Elapsed time since the start of the start of the current step.\",\n",
    "                                \"unit\": SIUnit.MILLISECOND.to_dict()\n",
    "                            }\n",
    "                        )\n",
    "\n",
    "                    ])\n",
    "                )\n",
    "            )\n",
    "        ]),\n",
    "       \n",
    "    )\n",
    "])"
   ]
  },
  {
   "cell_type": "code",
   "execution_count": 9,
   "id": "1b816736",
   "metadata": {},
   "outputs": [
    {
     "name": "stderr",
     "output_type": "stream",
     "text": [
      "24/05/20 09:41:50 WARN SparkStringUtils: Truncated the string representation of a plan since it was too large. This behavior can be adjusted by setting 'spark.sql.debug.maxToStringFields'.\n",
      "                                                                                \r"
     ]
    }
   ],
   "source": [
    "# create a delta table for fake test data\n",
    "battery_test_data = (\n",
    "    DeltaTable\n",
    "    .createOrReplace(spark)\n",
    "    .tableName(\"battery_test_data\")\n",
    "    .property(\"descrption\", \"battery test data\")\n",
    "    .addColumns(data_schema)\n",
    "    .location(\"./temp/battery_test_data\")\n",
    "    .execute()\n",
    ")"
   ]
  },
  {
   "cell_type": "code",
   "execution_count": 24,
   "id": "76780c67",
   "metadata": {},
   "outputs": [
    {
     "data": {
      "text/plain": [
       "datetime.datetime(2023, 5, 1, 10, 0, tzinfo=datetime.timezone.utc)"
      ]
     },
     "execution_count": 24,
     "metadata": {},
     "output_type": "execute_result"
    }
   ],
   "source": [
    "# create timestamp with the datetime standard library from \"2023-05-01T10:00:00+00:00\"\n"
   ]
  },
  {
   "cell_type": "code",
   "execution_count": 25,
   "id": "0365e49a",
   "metadata": {},
   "outputs": [
    {
     "name": "stderr",
     "output_type": "stream",
     "text": [
      "                                                                                \r"
     ]
    },
    {
     "name": "stdout",
     "output_type": "stream",
     "text": [
      "+---------+-----------------------------+---------------------------------------------------------------------------+-----------------------+-------------+----------------------------------------------------------------------------------------------------------------------------------------+\n",
      "|test_id  |cycler_info                  |device_info                                                                |procedure              |project      |test_data                                                                                                                               |\n",
      "+---------+-----------------------------+---------------------------------------------------------------------------+-----------------------+-------------+----------------------------------------------------------------------------------------------------------------------------------------+\n",
      "|test_id_1|{1, cycler_001, 1.2.3, 2.4.5}|{device_001, Device A, 2.5, 2023-06-15, cylindrical, ABC123, NMC, Graphite}|{proc_001, Procedure X}|Project Alpha|{2023-05-01 12:00:00, [{0.5, 3.7, 0, 2023-05-01 12:00:00, 1, 1, 1, 0.0}, {-1.0, 3.2, 3600000, 2023-05-01 13:00:00, 2, 1, 2, 3600000.0}]}|\n",
      "+---------+-----------------------------+---------------------------------------------------------------------------+-----------------------+-------------+----------------------------------------------------------------------------------------------------------------------------------------+\n",
      "\n"
     ]
    },
    {
     "name": "stderr",
     "output_type": "stream",
     "text": [
      "                                                                                \r"
     ]
    }
   ],
   "source": [
    "# generate fake Data based on data_schema and insert into delta table\n",
    "from datetime import datetime\n",
    "\n",
    "fake_data = [\n",
    "    (\n",
    "        \"test_id_1\",\n",
    "        (1, \"cycler_001\", \"1.2.3\", \"2.4.5\"),\n",
    "        (\"device_001\", \"Device A\", 2.5, datetime.strptime(\"2023-06-15\", \"%Y-%m-%d\"), \"cylindrical\", \"ABC123\", \"NMC\", \"Graphite\"),\n",
    "        (\"proc_001\", \"Procedure X\"),\n",
    "        \"Project Alpha\",\n",
    "        (\n",
    "            datetime.fromisoformat(\"2023-05-01T10:00:00+00:00\"), \n",
    "            [\n",
    "                (0.5, 3.7, 0, datetime.fromisoformat(\"2023-05-01T10:00:00+00:00\"), 1, 1, 1, 0.0),\n",
    "                (-1.0, 3.2, 3600000, datetime.fromisoformat(\"2023-05-01T11:00:00+00:00\"), 2, 1, 2, 3600000.0)\n",
    "            ]\n",
    "        )\n",
    "    )\n",
    "]\n",
    "\n",
    "# Create a DataFrame from the sample data\n",
    "df = spark.createDataFrame(fake_data, data_schema)\n",
    "\n",
    "# Show the DataFrame\n",
    "df.show(truncate=False)\n",
    "# insert fake data into delta table\n",
    "df.write.mode(\"append\").insertInto(\"battery_test_data\")"
   ]
  },
  {
   "cell_type": "code",
   "execution_count": 26,
   "id": "275df6c0",
   "metadata": {},
   "outputs": [],
   "source": [
    "# select from the table\n",
    "selection = spark.sql(\"SELECT * FROM battery_test_data\")"
   ]
  },
  {
   "cell_type": "code",
   "execution_count": 27,
   "id": "3456a992",
   "metadata": {},
   "outputs": [
    {
     "name": "stdout",
     "output_type": "stream",
     "text": [
      "+-----------+\n",
      "|    current|\n",
      "+-----------+\n",
      "|[0.5, -1.0]|\n",
      "+-----------+\n",
      "\n"
     ]
    }
   ],
   "source": [
    "selection.select(\"test_data.measurements.current\").show()"
   ]
  }
 ],
 "metadata": {
  "kernelspec": {
   "display_name": "nested-delta-bqIhkT2k-py3.12",
   "language": "python",
   "name": "python3"
  },
  "language_info": {
   "codemirror_mode": {
    "name": "ipython",
    "version": 3
   },
   "file_extension": ".py",
   "mimetype": "text/x-python",
   "name": "python",
   "nbconvert_exporter": "python",
   "pygments_lexer": "ipython3",
   "version": "3.12.3"
  }
 },
 "nbformat": 4,
 "nbformat_minor": 5
}
